{
 "cells": [
  {
   "cell_type": "markdown",
   "metadata": {
    "id": "VL0f2SGp2T4E"
   },
   "source": [
    "# TL;DR"
   ]
  },
  {
   "cell_type": "markdown",
   "metadata": {
    "id": "FwEh3AdS2eny"
   },
   "source": [
    "**Configuring Enviorment**"
   ]
  },
  {
   "cell_type": "markdown",
   "metadata": {
    "id": "B8wNu87731OU"
   },
   "source": [
    "installing dependencies"
   ]
  },
  {
   "cell_type": "code",
   "execution_count": 69,
   "metadata": {
    "colab": {
     "base_uri": "https://localhost:8080/"
    },
    "id": "eYCQ9zV71rDr",
    "outputId": "8734c51d-e2e7-451c-b537-bae8383877ba"
   },
   "outputs": [
    {
     "name": "stdout",
     "output_type": "stream",
     "text": [
      "Requirement already satisfied: nltk in c:\\users\\daniel\\pycharmprojects\\crackingthecodinginterviewquestions\\.venv\\lib\\site-packages (3.8.1)\n",
      "Requirement already satisfied: spacy in c:\\users\\daniel\\pycharmprojects\\crackingthecodinginterviewquestions\\.venv\\lib\\site-packages (3.7.5)\n",
      "Requirement already satisfied: beautifulsoup4 in c:\\users\\daniel\\pycharmprojects\\crackingthecodinginterviewquestions\\.venv\\lib\\site-packages (4.12.3)\n",
      "Requirement already satisfied: keras in c:\\users\\daniel\\pycharmprojects\\crackingthecodinginterviewquestions\\.venv\\lib\\site-packages (3.4.1)\n",
      "Requirement already satisfied: tensorflow in c:\\users\\daniel\\pycharmprojects\\crackingthecodinginterviewquestions\\.venv\\lib\\site-packages (2.17.0)\n",
      "Requirement already satisfied: keras-nlp in c:\\users\\daniel\\pycharmprojects\\crackingthecodinginterviewquestions\\.venv\\lib\\site-packages (0.0.2)\n",
      "Collecting keras-nlp\n",
      "  Using cached keras_nlp-0.14.0-py3-none-any.whl.metadata (6.8 kB)\n",
      "Requirement already satisfied: scikit-learn in c:\\users\\daniel\\pycharmprojects\\crackingthecodinginterviewquestions\\.venv\\lib\\site-packages (1.5.1)\n",
      "Requirement already satisfied: torch in c:\\users\\daniel\\pycharmprojects\\crackingthecodinginterviewquestions\\.venv\\lib\\site-packages (2.3.1)\n",
      "Requirement already satisfied: pandas in c:\\users\\daniel\\pycharmprojects\\crackingthecodinginterviewquestions\\.venv\\lib\\site-packages (2.2.2)\n",
      "Requirement already satisfied: matplotlib in c:\\users\\daniel\\pycharmprojects\\crackingthecodinginterviewquestions\\.venv\\lib\\site-packages (3.9.1)\n",
      "Requirement already satisfied: scipy in c:\\users\\daniel\\pycharmprojects\\crackingthecodinginterviewquestions\\.venv\\lib\\site-packages (1.14.0)\n",
      "Requirement already satisfied: sumy in c:\\users\\daniel\\pycharmprojects\\crackingthecodinginterviewquestions\\.venv\\lib\\site-packages (0.11.0)\n",
      "Requirement already satisfied: transformers in c:\\users\\daniel\\pycharmprojects\\crackingthecodinginterviewquestions\\.venv\\lib\\site-packages (4.42.4)\n",
      "Requirement already satisfied: tf_keras in c:\\users\\daniel\\pycharmprojects\\crackingthecodinginterviewquestions\\.venv\\lib\\site-packages (2.17.0)\n",
      "Requirement already satisfied: accelerate in c:\\users\\daniel\\pycharmprojects\\crackingthecodinginterviewquestions\\.venv\\lib\\site-packages (0.32.1)\n",
      "Requirement already satisfied: click in c:\\users\\daniel\\pycharmprojects\\crackingthecodinginterviewquestions\\.venv\\lib\\site-packages (from nltk) (8.1.7)\n",
      "Requirement already satisfied: joblib in c:\\users\\daniel\\pycharmprojects\\crackingthecodinginterviewquestions\\.venv\\lib\\site-packages (from nltk) (1.4.2)\n",
      "Requirement already satisfied: regex>=2021.8.3 in c:\\users\\daniel\\pycharmprojects\\crackingthecodinginterviewquestions\\.venv\\lib\\site-packages (from nltk) (2024.5.15)\n",
      "Requirement already satisfied: tqdm in c:\\users\\daniel\\pycharmprojects\\crackingthecodinginterviewquestions\\.venv\\lib\\site-packages (from nltk) (4.66.4)\n",
      "Requirement already satisfied: spacy-legacy<3.1.0,>=3.0.11 in c:\\users\\daniel\\pycharmprojects\\crackingthecodinginterviewquestions\\.venv\\lib\\site-packages (from spacy) (3.0.12)\n",
      "Requirement already satisfied: spacy-loggers<2.0.0,>=1.0.0 in c:\\users\\daniel\\pycharmprojects\\crackingthecodinginterviewquestions\\.venv\\lib\\site-packages (from spacy) (1.0.5)\n",
      "Requirement already satisfied: murmurhash<1.1.0,>=0.28.0 in c:\\users\\daniel\\pycharmprojects\\crackingthecodinginterviewquestions\\.venv\\lib\\site-packages (from spacy) (1.0.10)\n",
      "Requirement already satisfied: cymem<2.1.0,>=2.0.2 in c:\\users\\daniel\\pycharmprojects\\crackingthecodinginterviewquestions\\.venv\\lib\\site-packages (from spacy) (2.0.8)\n",
      "Requirement already satisfied: preshed<3.1.0,>=3.0.2 in c:\\users\\daniel\\pycharmprojects\\crackingthecodinginterviewquestions\\.venv\\lib\\site-packages (from spacy) (3.0.9)\n",
      "Requirement already satisfied: thinc<8.3.0,>=8.2.2 in c:\\users\\daniel\\pycharmprojects\\crackingthecodinginterviewquestions\\.venv\\lib\\site-packages (from spacy) (8.2.5)\n",
      "Requirement already satisfied: wasabi<1.2.0,>=0.9.1 in c:\\users\\daniel\\pycharmprojects\\crackingthecodinginterviewquestions\\.venv\\lib\\site-packages (from spacy) (1.1.3)\n",
      "Requirement already satisfied: srsly<3.0.0,>=2.4.3 in c:\\users\\daniel\\pycharmprojects\\crackingthecodinginterviewquestions\\.venv\\lib\\site-packages (from spacy) (2.4.8)\n",
      "Requirement already satisfied: catalogue<2.1.0,>=2.0.6 in c:\\users\\daniel\\pycharmprojects\\crackingthecodinginterviewquestions\\.venv\\lib\\site-packages (from spacy) (2.0.10)\n",
      "Requirement already satisfied: weasel<0.5.0,>=0.1.0 in c:\\users\\daniel\\pycharmprojects\\crackingthecodinginterviewquestions\\.venv\\lib\\site-packages (from spacy) (0.4.1)\n",
      "Requirement already satisfied: typer<1.0.0,>=0.3.0 in c:\\users\\daniel\\pycharmprojects\\crackingthecodinginterviewquestions\\.venv\\lib\\site-packages (from spacy) (0.12.3)\n",
      "Requirement already satisfied: requests<3.0.0,>=2.13.0 in c:\\users\\daniel\\pycharmprojects\\crackingthecodinginterviewquestions\\.venv\\lib\\site-packages (from spacy) (2.32.3)\n",
      "Requirement already satisfied: pydantic!=1.8,!=1.8.1,<3.0.0,>=1.7.4 in c:\\users\\daniel\\pycharmprojects\\crackingthecodinginterviewquestions\\.venv\\lib\\site-packages (from spacy) (2.8.2)\n",
      "Requirement already satisfied: jinja2 in c:\\users\\daniel\\pycharmprojects\\crackingthecodinginterviewquestions\\.venv\\lib\\site-packages (from spacy) (3.1.4)\n",
      "Requirement already satisfied: setuptools in c:\\users\\daniel\\pycharmprojects\\crackingthecodinginterviewquestions\\.venv\\lib\\site-packages (from spacy) (68.2.0)\n",
      "Requirement already satisfied: packaging>=20.0 in c:\\users\\daniel\\pycharmprojects\\crackingthecodinginterviewquestions\\.venv\\lib\\site-packages (from spacy) (24.1)\n",
      "Requirement already satisfied: langcodes<4.0.0,>=3.2.0 in c:\\users\\daniel\\pycharmprojects\\crackingthecodinginterviewquestions\\.venv\\lib\\site-packages (from spacy) (3.4.0)\n",
      "Requirement already satisfied: numpy>=1.19.0 in c:\\users\\daniel\\pycharmprojects\\crackingthecodinginterviewquestions\\.venv\\lib\\site-packages (from spacy) (1.26.4)\n",
      "Requirement already satisfied: soupsieve>1.2 in c:\\users\\daniel\\pycharmprojects\\crackingthecodinginterviewquestions\\.venv\\lib\\site-packages (from beautifulsoup4) (2.5)\n",
      "Requirement already satisfied: absl-py in c:\\users\\daniel\\pycharmprojects\\crackingthecodinginterviewquestions\\.venv\\lib\\site-packages (from keras) (2.1.0)\n",
      "Requirement already satisfied: rich in c:\\users\\daniel\\pycharmprojects\\crackingthecodinginterviewquestions\\.venv\\lib\\site-packages (from keras) (13.7.1)\n",
      "Requirement already satisfied: namex in c:\\users\\daniel\\pycharmprojects\\crackingthecodinginterviewquestions\\.venv\\lib\\site-packages (from keras) (0.0.8)\n",
      "Requirement already satisfied: h5py in c:\\users\\daniel\\pycharmprojects\\crackingthecodinginterviewquestions\\.venv\\lib\\site-packages (from keras) (3.11.0)\n",
      "Requirement already satisfied: optree in c:\\users\\daniel\\pycharmprojects\\crackingthecodinginterviewquestions\\.venv\\lib\\site-packages (from keras) (0.12.1)\n",
      "Requirement already satisfied: ml-dtypes in c:\\users\\daniel\\pycharmprojects\\crackingthecodinginterviewquestions\\.venv\\lib\\site-packages (from keras) (0.4.0)\n",
      "Requirement already satisfied: tensorflow-intel==2.17.0 in c:\\users\\daniel\\pycharmprojects\\crackingthecodinginterviewquestions\\.venv\\lib\\site-packages (from tensorflow) (2.17.0)\n",
      "Requirement already satisfied: astunparse>=1.6.0 in c:\\users\\daniel\\pycharmprojects\\crackingthecodinginterviewquestions\\.venv\\lib\\site-packages (from tensorflow-intel==2.17.0->tensorflow) (1.6.3)\n",
      "Requirement already satisfied: flatbuffers>=24.3.25 in c:\\users\\daniel\\pycharmprojects\\crackingthecodinginterviewquestions\\.venv\\lib\\site-packages (from tensorflow-intel==2.17.0->tensorflow) (24.3.25)\n",
      "Requirement already satisfied: gast!=0.5.0,!=0.5.1,!=0.5.2,>=0.2.1 in c:\\users\\daniel\\pycharmprojects\\crackingthecodinginterviewquestions\\.venv\\lib\\site-packages (from tensorflow-intel==2.17.0->tensorflow) (0.6.0)\n",
      "Requirement already satisfied: google-pasta>=0.1.1 in c:\\users\\daniel\\pycharmprojects\\crackingthecodinginterviewquestions\\.venv\\lib\\site-packages (from tensorflow-intel==2.17.0->tensorflow) (0.2.0)\n",
      "Requirement already satisfied: libclang>=13.0.0 in c:\\users\\daniel\\pycharmprojects\\crackingthecodinginterviewquestions\\.venv\\lib\\site-packages (from tensorflow-intel==2.17.0->tensorflow) (18.1.1)\n",
      "Requirement already satisfied: opt-einsum>=2.3.2 in c:\\users\\daniel\\pycharmprojects\\crackingthecodinginterviewquestions\\.venv\\lib\\site-packages (from tensorflow-intel==2.17.0->tensorflow) (3.3.0)\n",
      "Requirement already satisfied: protobuf!=4.21.0,!=4.21.1,!=4.21.2,!=4.21.3,!=4.21.4,!=4.21.5,<5.0.0dev,>=3.20.3 in c:\\users\\daniel\\pycharmprojects\\crackingthecodinginterviewquestions\\.venv\\lib\\site-packages (from tensorflow-intel==2.17.0->tensorflow) (4.25.3)\n",
      "Requirement already satisfied: six>=1.12.0 in c:\\users\\daniel\\pycharmprojects\\crackingthecodinginterviewquestions\\.venv\\lib\\site-packages (from tensorflow-intel==2.17.0->tensorflow) (1.16.0)\n",
      "Requirement already satisfied: termcolor>=1.1.0 in c:\\users\\daniel\\pycharmprojects\\crackingthecodinginterviewquestions\\.venv\\lib\\site-packages (from tensorflow-intel==2.17.0->tensorflow) (2.4.0)\n",
      "Requirement already satisfied: typing-extensions>=3.6.6 in c:\\users\\daniel\\pycharmprojects\\crackingthecodinginterviewquestions\\.venv\\lib\\site-packages (from tensorflow-intel==2.17.0->tensorflow) (4.12.2)\n",
      "Requirement already satisfied: wrapt>=1.11.0 in c:\\users\\daniel\\pycharmprojects\\crackingthecodinginterviewquestions\\.venv\\lib\\site-packages (from tensorflow-intel==2.17.0->tensorflow) (1.16.0)\n",
      "Requirement already satisfied: grpcio<2.0,>=1.24.3 in c:\\users\\daniel\\pycharmprojects\\crackingthecodinginterviewquestions\\.venv\\lib\\site-packages (from tensorflow-intel==2.17.0->tensorflow) (1.65.1)\n",
      "Requirement already satisfied: tensorboard<2.18,>=2.17 in c:\\users\\daniel\\pycharmprojects\\crackingthecodinginterviewquestions\\.venv\\lib\\site-packages (from tensorflow-intel==2.17.0->tensorflow) (2.17.0)\n",
      "Requirement already satisfied: tensorflow-io-gcs-filesystem>=0.23.1 in c:\\users\\daniel\\pycharmprojects\\crackingthecodinginterviewquestions\\.venv\\lib\\site-packages (from tensorflow-intel==2.17.0->tensorflow) (0.31.0)\n",
      "Collecting kagglehub (from keras-nlp)\n",
      "  Using cached kagglehub-0.2.8-py3-none-any.whl.metadata (19 kB)\n",
      "INFO: pip is looking at multiple versions of keras-nlp to determine which version is compatible with other requirements. This could take a while.\n",
      "Collecting keras-nlp\n",
      "  Using cached keras_nlp-0.12.1-py3-none-any.whl.metadata (6.8 kB)\n",
      "Collecting keras-core (from keras-nlp)\n",
      "  Using cached keras_core-0.1.7-py3-none-any.whl.metadata (4.3 kB)\n",
      "Collecting dm-tree (from keras-nlp)\n",
      "  Using cached dm_tree-0.1.8-cp311-cp311-win_amd64.whl.metadata (2.0 kB)\n",
      "Collecting keras-nlp\n",
      "  Using cached keras_nlp-0.12.0-py3-none-any.whl.metadata (6.8 kB)\n",
      "  Using cached keras_nlp-0.11.1-py3-none-any.whl.metadata (6.8 kB)\n",
      "  Using cached keras_nlp-0.11.0-py3-none-any.whl.metadata (6.8 kB)\n",
      "  Using cached keras_nlp-0.10.0-py3-none-any.whl.metadata (7.0 kB)\n",
      "  Using cached keras_nlp-0.9.3-py3-none-any.whl.metadata (7.0 kB)\n",
      "  Using cached keras_nlp-0.9.2-py3-none-any.whl.metadata (7.0 kB)\n",
      "INFO: pip is still looking at multiple versions of keras-nlp to determine which version is compatible with other requirements. This could take a while.\n",
      "  Using cached keras_nlp-0.9.1-py3-none-any.whl.metadata (7.0 kB)\n",
      "  Using cached keras_nlp-0.9.0-py3-none-any.whl.metadata (7.0 kB)\n",
      "  Using cached keras_nlp-0.8.2-py3-none-any.whl.metadata (7.0 kB)\n",
      "  Using cached keras_nlp-0.8.1-py3-none-any.whl.metadata (7.0 kB)\n",
      "  Using cached keras_nlp-0.8.0-py3-none-any.whl.metadata (7.0 kB)\n",
      "INFO: This is taking longer than usual. You might need to provide the dependency resolver with stricter constraints to reduce runtime. See https://pip.pypa.io/warnings/backtracking for guidance. If you want to abort this run, press Ctrl + C.\n",
      "  Using cached keras_nlp-0.7.0-py3-none-any.whl.metadata (7.0 kB)\n",
      "  Using cached keras_nlp-0.6.4-py3-none-any.whl.metadata (8.5 kB)\n",
      "  Using cached keras_nlp-0.6.3-py3-none-any.whl.metadata (7.2 kB)\n",
      "  Using cached keras_nlp-0.6.2-py3-none-any.whl.metadata (7.2 kB)\n",
      "  Using cached keras_nlp-0.6.1-py3-none-any.whl.metadata (7.2 kB)\n",
      "  Using cached keras_nlp-0.6.0-py3-none-any.whl.metadata (5.7 kB)\n",
      "  Using cached keras_nlp-0.5.2-py3-none-any.whl.metadata (5.7 kB)\n",
      "  Using cached keras_nlp-0.5.1-py3-none-any.whl.metadata (5.7 kB)\n",
      "  Using cached keras_nlp-0.5.0-py3-none-any.whl.metadata (5.7 kB)\n",
      "  Using cached keras_nlp-0.4.1-py3-none-any.whl.metadata (5.9 kB)\n",
      "  Using cached keras_nlp-0.4.0-py3-none-any.whl.metadata (6.4 kB)\n",
      "  Using cached keras_nlp-0.3.1-py3-none-any.whl.metadata (5.2 kB)\n",
      "  Using cached keras_nlp-0.3.0-py3-none-any.whl.metadata (5.1 kB)\n",
      "  Using cached keras_nlp-0.2.0-py3-none-any.whl.metadata (4.8 kB)\n",
      "  Using cached keras_nlp-0.1.1-py3-none-any.whl.metadata (4.3 kB)\n",
      "  Using cached keras_nlp-0.1.0-py3-none-any.whl.metadata (4.3 kB)\n",
      "Requirement already satisfied: tf-nightly in c:\\users\\daniel\\pycharmprojects\\crackingthecodinginterviewquestions\\.venv\\lib\\site-packages (from keras-nlp) (2.18.0.dev20240717)\n",
      "Requirement already satisfied: threadpoolctl>=3.1.0 in c:\\users\\daniel\\pycharmprojects\\crackingthecodinginterviewquestions\\.venv\\lib\\site-packages (from scikit-learn) (3.5.0)\n",
      "Requirement already satisfied: filelock in c:\\users\\daniel\\pycharmprojects\\crackingthecodinginterviewquestions\\.venv\\lib\\site-packages (from torch) (3.15.4)\n",
      "Requirement already satisfied: sympy in c:\\users\\daniel\\pycharmprojects\\crackingthecodinginterviewquestions\\.venv\\lib\\site-packages (from torch) (1.13.0)\n",
      "Requirement already satisfied: networkx in c:\\users\\daniel\\pycharmprojects\\crackingthecodinginterviewquestions\\.venv\\lib\\site-packages (from torch) (3.3)\n",
      "Requirement already satisfied: fsspec in c:\\users\\daniel\\pycharmprojects\\crackingthecodinginterviewquestions\\.venv\\lib\\site-packages (from torch) (2024.5.0)\n",
      "Requirement already satisfied: mkl<=2021.4.0,>=2021.1.1 in c:\\users\\daniel\\pycharmprojects\\crackingthecodinginterviewquestions\\.venv\\lib\\site-packages (from torch) (2021.4.0)\n",
      "Requirement already satisfied: python-dateutil>=2.8.2 in c:\\users\\daniel\\pycharmprojects\\crackingthecodinginterviewquestions\\.venv\\lib\\site-packages (from pandas) (2.9.0.post0)\n",
      "Requirement already satisfied: pytz>=2020.1 in c:\\users\\daniel\\pycharmprojects\\crackingthecodinginterviewquestions\\.venv\\lib\\site-packages (from pandas) (2024.1)\n",
      "Requirement already satisfied: tzdata>=2022.7 in c:\\users\\daniel\\pycharmprojects\\crackingthecodinginterviewquestions\\.venv\\lib\\site-packages (from pandas) (2024.1)\n",
      "Requirement already satisfied: contourpy>=1.0.1 in c:\\users\\daniel\\pycharmprojects\\crackingthecodinginterviewquestions\\.venv\\lib\\site-packages (from matplotlib) (1.2.1)\n",
      "Requirement already satisfied: cycler>=0.10 in c:\\users\\daniel\\pycharmprojects\\crackingthecodinginterviewquestions\\.venv\\lib\\site-packages (from matplotlib) (0.12.1)\n",
      "Requirement already satisfied: fonttools>=4.22.0 in c:\\users\\daniel\\pycharmprojects\\crackingthecodinginterviewquestions\\.venv\\lib\\site-packages (from matplotlib) (4.53.1)\n",
      "Requirement already satisfied: kiwisolver>=1.3.1 in c:\\users\\daniel\\pycharmprojects\\crackingthecodinginterviewquestions\\.venv\\lib\\site-packages (from matplotlib) (1.4.5)\n",
      "Requirement already satisfied: pillow>=8 in c:\\users\\daniel\\pycharmprojects\\crackingthecodinginterviewquestions\\.venv\\lib\\site-packages (from matplotlib) (10.4.0)\n",
      "Requirement already satisfied: pyparsing>=2.3.1 in c:\\users\\daniel\\pycharmprojects\\crackingthecodinginterviewquestions\\.venv\\lib\\site-packages (from matplotlib) (3.1.2)\n",
      "Requirement already satisfied: docopt<0.7,>=0.6.1 in c:\\users\\daniel\\pycharmprojects\\crackingthecodinginterviewquestions\\.venv\\lib\\site-packages (from sumy) (0.6.2)\n",
      "Requirement already satisfied: breadability>=0.1.20 in c:\\users\\daniel\\pycharmprojects\\crackingthecodinginterviewquestions\\.venv\\lib\\site-packages (from sumy) (0.1.20)\n",
      "Requirement already satisfied: pycountry>=18.2.23 in c:\\users\\daniel\\pycharmprojects\\crackingthecodinginterviewquestions\\.venv\\lib\\site-packages (from sumy) (24.6.1)\n",
      "Requirement already satisfied: huggingface-hub<1.0,>=0.23.2 in c:\\users\\daniel\\pycharmprojects\\crackingthecodinginterviewquestions\\.venv\\lib\\site-packages (from transformers) (0.24.0)\n",
      "Requirement already satisfied: pyyaml>=5.1 in c:\\users\\daniel\\pycharmprojects\\crackingthecodinginterviewquestions\\.venv\\lib\\site-packages (from transformers) (6.0.1)\n",
      "Requirement already satisfied: safetensors>=0.4.1 in c:\\users\\daniel\\pycharmprojects\\crackingthecodinginterviewquestions\\.venv\\lib\\site-packages (from transformers) (0.4.3)\n",
      "Requirement already satisfied: tokenizers<0.20,>=0.19 in c:\\users\\daniel\\pycharmprojects\\crackingthecodinginterviewquestions\\.venv\\lib\\site-packages (from transformers) (0.19.1)\n",
      "Requirement already satisfied: psutil in c:\\users\\daniel\\pycharmprojects\\crackingthecodinginterviewquestions\\.venv\\lib\\site-packages (from accelerate) (6.0.0)\n",
      "Requirement already satisfied: chardet in c:\\users\\daniel\\pycharmprojects\\crackingthecodinginterviewquestions\\.venv\\lib\\site-packages (from breadability>=0.1.20->sumy) (5.2.0)\n",
      "Requirement already satisfied: lxml>=2.0 in c:\\users\\daniel\\pycharmprojects\\crackingthecodinginterviewquestions\\.venv\\lib\\site-packages (from breadability>=0.1.20->sumy) (5.2.2)\n",
      "Requirement already satisfied: language-data>=1.2 in c:\\users\\daniel\\pycharmprojects\\crackingthecodinginterviewquestions\\.venv\\lib\\site-packages (from langcodes<4.0.0,>=3.2.0->spacy) (1.2.0)\n",
      "Requirement already satisfied: intel-openmp==2021.* in c:\\users\\daniel\\pycharmprojects\\crackingthecodinginterviewquestions\\.venv\\lib\\site-packages (from mkl<=2021.4.0,>=2021.1.1->torch) (2021.4.0)\n",
      "Requirement already satisfied: tbb==2021.* in c:\\users\\daniel\\pycharmprojects\\crackingthecodinginterviewquestions\\.venv\\lib\\site-packages (from mkl<=2021.4.0,>=2021.1.1->torch) (2021.13.0)\n",
      "Requirement already satisfied: annotated-types>=0.4.0 in c:\\users\\daniel\\pycharmprojects\\crackingthecodinginterviewquestions\\.venv\\lib\\site-packages (from pydantic!=1.8,!=1.8.1,<3.0.0,>=1.7.4->spacy) (0.7.0)\n",
      "Requirement already satisfied: pydantic-core==2.20.1 in c:\\users\\daniel\\pycharmprojects\\crackingthecodinginterviewquestions\\.venv\\lib\\site-packages (from pydantic!=1.8,!=1.8.1,<3.0.0,>=1.7.4->spacy) (2.20.1)\n",
      "Requirement already satisfied: charset-normalizer<4,>=2 in c:\\users\\daniel\\pycharmprojects\\crackingthecodinginterviewquestions\\.venv\\lib\\site-packages (from requests<3.0.0,>=2.13.0->spacy) (3.3.2)\n",
      "Requirement already satisfied: idna<4,>=2.5 in c:\\users\\daniel\\pycharmprojects\\crackingthecodinginterviewquestions\\.venv\\lib\\site-packages (from requests<3.0.0,>=2.13.0->spacy) (3.7)\n",
      "Requirement already satisfied: urllib3<3,>=1.21.1 in c:\\users\\daniel\\pycharmprojects\\crackingthecodinginterviewquestions\\.venv\\lib\\site-packages (from requests<3.0.0,>=2.13.0->spacy) (2.2.2)\n",
      "Requirement already satisfied: certifi>=2017.4.17 in c:\\users\\daniel\\pycharmprojects\\crackingthecodinginterviewquestions\\.venv\\lib\\site-packages (from requests<3.0.0,>=2.13.0->spacy) (2024.7.4)\n",
      "Requirement already satisfied: blis<0.8.0,>=0.7.8 in c:\\users\\daniel\\pycharmprojects\\crackingthecodinginterviewquestions\\.venv\\lib\\site-packages (from thinc<8.3.0,>=8.2.2->spacy) (0.7.11)\n",
      "Requirement already satisfied: confection<1.0.0,>=0.0.1 in c:\\users\\daniel\\pycharmprojects\\crackingthecodinginterviewquestions\\.venv\\lib\\site-packages (from thinc<8.3.0,>=8.2.2->spacy) (0.1.5)\n",
      "Requirement already satisfied: colorama in c:\\users\\daniel\\pycharmprojects\\crackingthecodinginterviewquestions\\.venv\\lib\\site-packages (from tqdm->nltk) (0.4.6)\n",
      "Requirement already satisfied: shellingham>=1.3.0 in c:\\users\\daniel\\pycharmprojects\\crackingthecodinginterviewquestions\\.venv\\lib\\site-packages (from typer<1.0.0,>=0.3.0->spacy) (1.5.4)\n",
      "Requirement already satisfied: markdown-it-py>=2.2.0 in c:\\users\\daniel\\pycharmprojects\\crackingthecodinginterviewquestions\\.venv\\lib\\site-packages (from rich->keras) (3.0.0)\n",
      "Requirement already satisfied: pygments<3.0.0,>=2.13.0 in c:\\users\\daniel\\pycharmprojects\\crackingthecodinginterviewquestions\\.venv\\lib\\site-packages (from rich->keras) (2.18.0)\n",
      "Requirement already satisfied: cloudpathlib<1.0.0,>=0.7.0 in c:\\users\\daniel\\pycharmprojects\\crackingthecodinginterviewquestions\\.venv\\lib\\site-packages (from weasel<0.5.0,>=0.1.0->spacy) (0.18.1)\n",
      "Requirement already satisfied: smart-open<8.0.0,>=5.2.1 in c:\\users\\daniel\\pycharmprojects\\crackingthecodinginterviewquestions\\.venv\\lib\\site-packages (from weasel<0.5.0,>=0.1.0->spacy) (7.0.4)\n",
      "Requirement already satisfied: MarkupSafe>=2.0 in c:\\users\\daniel\\pycharmprojects\\crackingthecodinginterviewquestions\\.venv\\lib\\site-packages (from jinja2->spacy) (2.1.5)\n",
      "Requirement already satisfied: mpmath<1.4,>=1.1.0 in c:\\users\\daniel\\pycharmprojects\\crackingthecodinginterviewquestions\\.venv\\lib\\site-packages (from sympy->torch) (1.3.0)\n",
      "Requirement already satisfied: tf-nightly-intel==2.18.0-dev20240717 in c:\\users\\daniel\\pycharmprojects\\crackingthecodinginterviewquestions\\.venv\\lib\\site-packages (from tf-nightly->keras-nlp) (2.18.0.dev20240717)\n",
      "Requirement already satisfied: tb-nightly~=2.18.0.a in c:\\users\\daniel\\pycharmprojects\\crackingthecodinginterviewquestions\\.venv\\lib\\site-packages (from tf-nightly-intel==2.18.0-dev20240717->tf-nightly->keras-nlp) (2.18.0a20240718)\n",
      "Requirement already satisfied: keras-nightly>=3.2.0.dev in c:\\users\\daniel\\pycharmprojects\\crackingthecodinginterviewquestions\\.venv\\lib\\site-packages (from tf-nightly-intel==2.18.0-dev20240717->tf-nightly->keras-nlp) (3.4.1.dev2024071803)\n",
      "Requirement already satisfied: wheel<1.0,>=0.23.0 in c:\\users\\daniel\\pycharmprojects\\crackingthecodinginterviewquestions\\.venv\\lib\\site-packages (from astunparse>=1.6.0->tensorflow-intel==2.17.0->tensorflow) (0.41.2)\n",
      "Requirement already satisfied: marisa-trie>=0.7.7 in c:\\users\\daniel\\pycharmprojects\\crackingthecodinginterviewquestions\\.venv\\lib\\site-packages (from language-data>=1.2->langcodes<4.0.0,>=3.2.0->spacy) (1.2.0)\n",
      "Requirement already satisfied: mdurl~=0.1 in c:\\users\\daniel\\pycharmprojects\\crackingthecodinginterviewquestions\\.venv\\lib\\site-packages (from markdown-it-py>=2.2.0->rich->keras) (0.1.2)\n",
      "Requirement already satisfied: markdown>=2.6.8 in c:\\users\\daniel\\pycharmprojects\\crackingthecodinginterviewquestions\\.venv\\lib\\site-packages (from tensorboard<2.18,>=2.17->tensorflow-intel==2.17.0->tensorflow) (3.6)\n",
      "Requirement already satisfied: tensorboard-data-server<0.8.0,>=0.7.0 in c:\\users\\daniel\\pycharmprojects\\crackingthecodinginterviewquestions\\.venv\\lib\\site-packages (from tensorboard<2.18,>=2.17->tensorflow-intel==2.17.0->tensorflow) (0.7.2)\n",
      "Requirement already satisfied: werkzeug>=1.0.1 in c:\\users\\daniel\\pycharmprojects\\crackingthecodinginterviewquestions\\.venv\\lib\\site-packages (from tensorboard<2.18,>=2.17->tensorflow-intel==2.17.0->tensorflow) (3.0.3)\n",
      "Note: you may need to restart the kernel to use updated packages.\n"
     ]
    }
   ],
   "source": [
    "pip install nltk spacy beautifulsoup4 keras tensorflow keras-nlp scikit-learn torch pandas matplotlib scipy sumy transformers tf_keras transformers[torch] accelerate -U\n"
   ]
  },
  {
   "cell_type": "markdown",
   "metadata": {
    "editable": true,
    "slideshow": {
     "slide_type": "notes"
    },
    "tags": []
   },
   "source": [
    "# Imports"
   ]
  },
  {
   "cell_type": "code",
   "execution_count": 2,
   "metadata": {
    "id": "f6u-yy5A30DY"
   },
   "outputs": [
    {
     "name": "stdout",
     "output_type": "stream",
     "text": [
      "WARNING:tensorflow:From C:\\Users\\daniel\\PycharmProjects\\CrackingtheCodingInterviewquestions\\.venv\\Lib\\site-packages\\tf_keras\\src\\losses.py:2976: The name tf.losses.sparse_softmax_cross_entropy is deprecated. Please use tf.compat.v1.losses.sparse_softmax_cross_entropy instead.\n",
      "\n"
     ]
    },
    {
     "name": "stderr",
     "output_type": "stream",
     "text": [
      "[nltk_data] Downloading package punkt to\n",
      "[nltk_data]     C:\\Users\\daniel\\AppData\\Roaming\\nltk_data...\n",
      "[nltk_data]   Package punkt is already up-to-date!\n"
     ]
    },
    {
     "data": {
      "text/plain": [
       "True"
      ]
     },
     "execution_count": 2,
     "metadata": {},
     "output_type": "execute_result"
    }
   ],
   "source": [
    "import os\n",
    "import numpy as np\n",
    "import pandas as pd\n",
    "from collections import Counter\n",
    "import nltk\n",
    "import spacy\n",
    "import nltk\n",
    "from nltk.tokenize import word_tokenize, sent_tokenize \n",
    "from tensorflow.keras.models import Sequential\n",
    "from tensorflow.keras.layers import Dense, Embedding, SimpleRNN, LSTM\n",
    "from tensorflow.keras.preprocessing.text import Tokenizer\n",
    "from tensorflow.keras.preprocessing.sequence import pad_sequences\n",
    "from sklearn.model_selection import train_test_split\n",
    "from sklearn.metrics import accuracy_score\n",
    "import matplotlib.pyplot as plt\n",
    "from sklearn.metrics import confusion_matrix\n",
    "from scipy import stats\n",
    "import tensorflow as tf\n",
    "import torch\n",
    "from torch.utils.data import Dataset, DataLoader\n",
    "from transformers import GPT2LMHeadModel, GPT2Tokenizer, Trainer, TrainingArguments\n",
    "from datasets import load_dataset\n",
    "import nltk \n",
    "from nltk.tokenize import sent_tokenize\n",
    "from transformers import pipeline\n",
    "\n",
    "nltk.download('punkt')"
   ]
  },
  {
   "cell_type": "markdown",
   "metadata": {
    "id": "t4G7LnhAw6p9"
   },
   "source": [
    "***Load data***\n",
    "\n",
    "this data is not from homework 1 and 2 cause i found a better way to extract data from reddit."
   ]
  },
  {
   "cell_type": "code",
   "execution_count": 14,
   "metadata": {
    "colab": {
     "base_uri": "https://localhost:8080/",
     "height": 397
    },
    "id": "mI18dOIgy_Xd",
    "outputId": "b311193f-70f0-4610-fa96-973758c03cf4"
   },
   "outputs": [
    {
     "data": {
      "text/html": [
       "<div>\n",
       "<style scoped>\n",
       "    .dataframe tbody tr th:only-of-type {\n",
       "        vertical-align: middle;\n",
       "    }\n",
       "\n",
       "    .dataframe tbody tr th {\n",
       "        vertical-align: top;\n",
       "    }\n",
       "\n",
       "    .dataframe thead th {\n",
       "        text-align: right;\n",
       "    }\n",
       "</style>\n",
       "<table border=\"1\" class=\"dataframe\">\n",
       "  <thead>\n",
       "    <tr style=\"text-align: right;\">\n",
       "      <th></th>\n",
       "      <th>Unnamed: 0</th>\n",
       "      <th>title</th>\n",
       "      <th>selftext</th>\n",
       "      <th>id</th>\n",
       "      <th>clean_title</th>\n",
       "      <th>clean_selftext</th>\n",
       "      <th>clean_id</th>\n",
       "    </tr>\n",
       "  </thead>\n",
       "  <tbody>\n",
       "    <tr>\n",
       "      <th>0</th>\n",
       "      <td>0</td>\n",
       "      <td>I'm f'ed up and I cannot fix it no matter what...</td>\n",
       "      <td>When I was younger I was fat, but I'm hilariou...</td>\n",
       "      <td>1e4xvti</td>\n",
       "      <td>im fed up and i cannot fix it no matter what i do</td>\n",
       "      <td>when i was younger i was fat but im hilarious ...</td>\n",
       "      <td>exvti</td>\n",
       "    </tr>\n",
       "    <tr>\n",
       "      <th>1</th>\n",
       "      <td>1</td>\n",
       "      <td>I'm 45 years of age and still suck my thumb as...</td>\n",
       "      <td>I'm 45 M and still suck my thumb and honestly ...</td>\n",
       "      <td>1e4xvcj</td>\n",
       "      <td>im  years of age and still suck my thumb as a ...</td>\n",
       "      <td>im  m and still suck my thumb and honestly don...</td>\n",
       "      <td>exvcj</td>\n",
       "    </tr>\n",
       "    <tr>\n",
       "      <th>2</th>\n",
       "      <td>2</td>\n",
       "      <td>I only paid for half of the price of a cake, k...</td>\n",
       "      <td>More than a year ago, I went to my local groce...</td>\n",
       "      <td>1e4iomq</td>\n",
       "      <td>i only paid for half of the price of a cake kn...</td>\n",
       "      <td>more than a year ago i went to my local grocer...</td>\n",
       "      <td>eiomq</td>\n",
       "    </tr>\n",
       "    <tr>\n",
       "      <th>3</th>\n",
       "      <td>3</td>\n",
       "      <td>I lied on my resume because I was desperate fo...</td>\n",
       "      <td>I recently graduated from grad school and have...</td>\n",
       "      <td>1e4fg9e</td>\n",
       "      <td>i lied on my resume because i was desperate fo...</td>\n",
       "      <td>i recently graduated from grad school and have...</td>\n",
       "      <td>efge</td>\n",
       "    </tr>\n",
       "    <tr>\n",
       "      <th>4</th>\n",
       "      <td>4</td>\n",
       "      <td>[Extreme Remorse] I relieved my pets from suff...</td>\n",
       "      <td>[Extreme Remorse]\\n\\nI grew up with pets. Yeah...</td>\n",
       "      <td>1e4cg3w</td>\n",
       "      <td>extreme remorse i relieved my pets from suffering</td>\n",
       "      <td>extreme remorse\\n\\ni grew up with pets yeah yo...</td>\n",
       "      <td>ecgw</td>\n",
       "    </tr>\n",
       "  </tbody>\n",
       "</table>\n",
       "</div>"
      ],
      "text/plain": [
       "   Unnamed: 0                                              title  \\\n",
       "0           0  I'm f'ed up and I cannot fix it no matter what...   \n",
       "1           1  I'm 45 years of age and still suck my thumb as...   \n",
       "2           2  I only paid for half of the price of a cake, k...   \n",
       "3           3  I lied on my resume because I was desperate fo...   \n",
       "4           4  [Extreme Remorse] I relieved my pets from suff...   \n",
       "\n",
       "                                            selftext       id  \\\n",
       "0  When I was younger I was fat, but I'm hilariou...  1e4xvti   \n",
       "1  I'm 45 M and still suck my thumb and honestly ...  1e4xvcj   \n",
       "2  More than a year ago, I went to my local groce...  1e4iomq   \n",
       "3  I recently graduated from grad school and have...  1e4fg9e   \n",
       "4  [Extreme Remorse]\\n\\nI grew up with pets. Yeah...  1e4cg3w   \n",
       "\n",
       "                                         clean_title  \\\n",
       "0  im fed up and i cannot fix it no matter what i do   \n",
       "1  im  years of age and still suck my thumb as a ...   \n",
       "2  i only paid for half of the price of a cake kn...   \n",
       "3  i lied on my resume because i was desperate fo...   \n",
       "4  extreme remorse i relieved my pets from suffering   \n",
       "\n",
       "                                      clean_selftext clean_id  \n",
       "0  when i was younger i was fat but im hilarious ...    exvti  \n",
       "1  im  m and still suck my thumb and honestly don...    exvcj  \n",
       "2  more than a year ago i went to my local grocer...    eiomq  \n",
       "3  i recently graduated from grad school and have...     efge  \n",
       "4  extreme remorse\\n\\ni grew up with pets yeah yo...     ecgw  "
      ]
     },
     "execution_count": 14,
     "metadata": {},
     "output_type": "execute_result"
    }
   ],
   "source": [
    "dataset = pd.read_csv('data.csv', sep='\\t')\n",
    "dataset.head()"
   ]
  },
  {
   "cell_type": "markdown",
   "metadata": {},
   "source": [
    "## Data Prepration\n",
    "### Tokenazetion, Normlazation, stemming , word vectoring  after that showing basic statistics on the data"
   ]
  },
  {
   "cell_type": "code",
   "execution_count": 15,
   "metadata": {
    "colab": {
     "base_uri": "https://localhost:8080/"
    },
    "id": "4pZEbdkmpOvv",
    "outputId": "f75a4637-620c-4069-9b50-113b893df839"
   },
   "outputs": [
    {
     "name": "stdout",
     "output_type": "stream",
     "text": [
      "<class 'pandas.core.frame.DataFrame'>\n",
      "Index: 822 entries, 0 to 823\n",
      "Data columns (total 3 columns):\n",
      " #   Column          Non-Null Count  Dtype \n",
      "---  ------          --------------  ----- \n",
      " 0   clean_title     822 non-null    object\n",
      " 1   clean_selftext  822 non-null    object\n",
      " 2   id              822 non-null    object\n",
      "dtypes: object(3)\n",
      "memory usage: 25.7+ KB\n",
      "Title Word Count Statistics:\n",
      "count    822.000000\n",
      "mean      13.357664\n",
      "std        3.936284\n",
      "min        1.000000\n",
      "25%       11.000000\n",
      "50%       13.000000\n",
      "75%       15.000000\n",
      "max       53.000000\n",
      "Name: title_word_count, dtype: float64\n",
      "\n",
      "Comment Word Count Statistics:\n",
      "count     822.000000\n",
      "mean      257.379562\n",
      "std       243.037507\n",
      "min         3.000000\n",
      "25%       109.000000\n",
      "50%       194.500000\n",
      "75%       326.750000\n",
      "max      3089.000000\n",
      "Name: comment_word_count, dtype: float64\n"
     ]
    }
   ],
   "source": [
    "# prompt: select only clean columns and show statistics on  the dataset related to NLP\n",
    "\n",
    "dataset = dataset[['clean_title', 'clean_selftext','id']]\n",
    "dataset.dropna(inplace=True)\n",
    "dataset.info()\n",
    "\n",
    "# Word count statistics\n",
    "dataset['title_word_count'] = dataset['clean_title'].apply(lambda x: len(str(x).split()))\n",
    "dataset['comment_word_count'] = dataset['clean_selftext'].apply(lambda x: len(str(x).split()))\n",
    "print(\"Title Word Count Statistics:\")\n",
    "print(dataset['title_word_count'].describe())\n",
    "print(\"\\nComment Word Count Statistics:\")\n",
    "print(dataset['comment_word_count'].describe())\n"
   ]
  },
  {
   "cell_type": "code",
   "execution_count": 20,
   "metadata": {
    "colab": {
     "base_uri": "https://localhost:8080/"
    },
    "id": "SKsVW-Hzx-a3",
    "outputId": "80dd7836-a82b-4ce8-9096-faca6cef7031"
   },
   "outputs": [
    {
     "name": "stderr",
     "output_type": "stream",
     "text": [
      "[nltk_data] Downloading package stopwords to\n",
      "[nltk_data]     C:\\Users\\daniel\\AppData\\Roaming\\nltk_data...\n",
      "[nltk_data]   Package stopwords is already up-to-date!\n",
      "[nltk_data] Downloading package wordnet to\n",
      "[nltk_data]     C:\\Users\\daniel\\AppData\\Roaming\\nltk_data...\n",
      "[nltk_data]   Package wordnet is already up-to-date!\n"
     ]
    },
    {
     "name": "stdout",
     "output_type": "stream",
     "text": [
      "Modified Dataset Statistics:\n",
      "                                         clean_title  \\\n",
      "0  im fed up and i cannot fix it no matter what i do   \n",
      "1  im  years of age and still suck my thumb as a ...   \n",
      "2  i only paid for half of the price of a cake kn...   \n",
      "3  i lied on my resume because i was desperate fo...   \n",
      "4  extreme remorse i relieved my pets from suffering   \n",
      "\n",
      "                                      clean_selftext       id  \\\n",
      "0  when i was younger i was fat but im hilarious ...  1e4xvti   \n",
      "1  im  m and still suck my thumb and honestly don...  1e4xvcj   \n",
      "2  more than a year ago i went to my local grocer...  1e4iomq   \n",
      "3  i recently graduated from grad school and have...  1e4fg9e   \n",
      "4  extreme remorse\\n\\ni grew up with pets yeah yo...  1e4cg3w   \n",
      "\n",
      "   title_word_count  comment_word_count  \\\n",
      "0                13                  99   \n",
      "1                14                  99   \n",
      "2                12                 306   \n",
      "3                11                 192   \n",
      "4                 8                 744   \n",
      "\n",
      "                                   processed_comment  \n",
      "0  [younger, fat, im, hilarious, considered, funn...  \n",
      "1  [im, still, suck, thumb, honestly, dont, want,...  \n",
      "2  [year, ago, went, local, grocery, store, costu...  \n",
      "3  [recently, graduated, grad, school, struggling...  \n",
      "4  [extreme, remorse, grew, pet, yeah, probably, ...  \n",
      "\n",
      "Shape of word vector matrix: (822, 9380)\n"
     ]
    }
   ],
   "source": [
    "# prompt: performing tokenization, as 'processed_comment'\n",
    "# lemmatization, normalization(stemming and lemmatization), stop-word removal, and word vectorization. after show the modified dataset statistics\n",
    "\n",
    "# Tokenization\n",
    "dataset['processed_comment'] = dataset['clean_selftext'].apply(nltk.word_tokenize)\n",
    "\n",
    "# Normalization (Stemming and Lemmatization) and Stop-word Removal\n",
    "nltk.download('stopwords')\n",
    "nltk.download('wordnet')\n",
    "stop_words = set(nltk.corpus.stopwords.words('english'))\n",
    "lemmatizer = nltk.stem.WordNetLemmatizer()\n",
    "\n",
    "def normalize_text(tokens):\n",
    "    normalized_tokens = [lemmatizer.lemmatize(word.lower()) for word in tokens if word.lower() not in stop_words and word.isalnum()]\n",
    "    return normalized_tokens\n",
    "\n",
    "dataset['processed_comment'] = dataset['processed_comment'].apply(normalize_text)\n",
    "\n",
    "# Word Vectorization (using a simple count vectorizer for demonstration)\n",
    "from sklearn.feature_extraction.text import CountVectorizer\n",
    "vectorizer = CountVectorizer()\n",
    "X = vectorizer.fit_transform([' '.join(tokens) for tokens in dataset['processed_comment']])\n",
    "\n",
    "# Modified Dataset Statistics\n",
    "print(\"Modified Dataset Statistics:\")\n",
    "print(dataset.head())\n",
    "print(\"\\nShape of word vector matrix:\", X.shape)"
   ]
  },
  {
   "cell_type": "markdown",
   "metadata": {},
   "source": [
    "### **Applying RNN model and predicting next word in a test sentance**\n"
   ]
  },
  {
   "cell_type": "code",
   "execution_count": 21,
   "metadata": {
    "colab": {
     "base_uri": "https://localhost:8080/",
     "height": 211
    },
    "id": "OUa_o9WvW_mY",
    "outputId": "cee19d59-7cdb-4ecd-9a67-b3a8a34859c0"
   },
   "outputs": [
    {
     "name": "stderr",
     "output_type": "stream",
     "text": [
      "C:\\Users\\daniel\\PycharmProjects\\CrackingtheCodingInterviewquestions\\.venv\\Lib\\site-packages\\keras\\src\\layers\\core\\embedding.py:90: UserWarning: Argument `input_length` is deprecated. Just remove it.\n",
      "  warnings.warn(\n"
     ]
    },
    {
     "name": "stdout",
     "output_type": "stream",
     "text": [
      "Epoch 1/10\n",
      "\u001b[1m3068/3068\u001b[0m \u001b[32m━━━━━━━━━━━━━━━━━━━━\u001b[0m\u001b[37m\u001b[0m \u001b[1m597s\u001b[0m 194ms/step - accuracy: 0.0153 - loss: 6.8172\n",
      "Epoch 2/10\n",
      "\u001b[1m3068/3068\u001b[0m \u001b[32m━━━━━━━━━━━━━━━━━━━━\u001b[0m\u001b[37m\u001b[0m \u001b[1m579s\u001b[0m 189ms/step - accuracy: 0.0173 - loss: 6.2992\n",
      "Epoch 3/10\n",
      "\u001b[1m3068/3068\u001b[0m \u001b[32m━━━━━━━━━━━━━━━━━━━━\u001b[0m\u001b[37m\u001b[0m \u001b[1m533s\u001b[0m 174ms/step - accuracy: 0.0256 - loss: 6.2209\n",
      "Epoch 4/10\n",
      "\u001b[1m3068/3068\u001b[0m \u001b[32m━━━━━━━━━━━━━━━━━━━━\u001b[0m\u001b[37m\u001b[0m \u001b[1m520s\u001b[0m 169ms/step - accuracy: 0.0400 - loss: 6.1126\n",
      "Epoch 5/10\n",
      "\u001b[1m3068/3068\u001b[0m \u001b[32m━━━━━━━━━━━━━━━━━━━━\u001b[0m\u001b[37m\u001b[0m \u001b[1m565s\u001b[0m 184ms/step - accuracy: 0.0469 - loss: 6.0107\n",
      "Epoch 6/10\n",
      "\u001b[1m3068/3068\u001b[0m \u001b[32m━━━━━━━━━━━━━━━━━━━━\u001b[0m\u001b[37m\u001b[0m \u001b[1m518s\u001b[0m 169ms/step - accuracy: 0.0507 - loss: 5.9343\n",
      "Epoch 7/10\n",
      "\u001b[1m3068/3068\u001b[0m \u001b[32m━━━━━━━━━━━━━━━━━━━━\u001b[0m\u001b[37m\u001b[0m \u001b[1m560s\u001b[0m 183ms/step - accuracy: 0.0545 - loss: 5.8764\n",
      "Epoch 8/10\n",
      "\u001b[1m3068/3068\u001b[0m \u001b[32m━━━━━━━━━━━━━━━━━━━━\u001b[0m\u001b[37m\u001b[0m \u001b[1m500s\u001b[0m 163ms/step - accuracy: 0.0569 - loss: 5.8218\n",
      "Epoch 9/10\n",
      "\u001b[1m3068/3068\u001b[0m \u001b[32m━━━━━━━━━━━━━━━━━━━━\u001b[0m\u001b[37m\u001b[0m \u001b[1m528s\u001b[0m 172ms/step - accuracy: 0.0618 - loss: 5.7771\n",
      "Epoch 10/10\n",
      "\u001b[1m3068/3068\u001b[0m \u001b[32m━━━━━━━━━━━━━━━━━━━━\u001b[0m\u001b[37m\u001b[0m \u001b[1m625s\u001b[0m 204ms/step - accuracy: 0.0624 - loss: 5.7402\n",
      "Predicted next word: time\n"
     ]
    }
   ],
   "source": [
    "sequences = []\n",
    "for tokens in dataset['processed_comment']:\n",
    "  for i in range(1, len(tokens)):\n",
    "    sequence = tokens[:i]\n",
    "    sequences.append(sequence)\n",
    "\n",
    "# Tokenize and pad sequences\n",
    "tokenizer = Tokenizer(num_words=1000)\n",
    "tokenizer.fit_on_texts(sequences)\n",
    "sequences = tokenizer.texts_to_sequences(sequences)\n",
    "vocab_size = len(tokenizer.word_index) + 1\n",
    "max_length = max([len(seq) for seq in sequences])\n",
    "padded_sequences = pad_sequences(sequences, maxlen=max_length, padding='pre')\n",
    "\n",
    "# Split data into input (X) and output (y)\n",
    "X = padded_sequences[:, :-1]\n",
    "y = padded_sequences[:, -1]\n",
    "y = np.array(tf.keras.utils.to_categorical(y, num_classes=vocab_size))\n",
    "\n",
    "# Build RNN model\n",
    "model = Sequential()\n",
    "model.add(Embedding(vocab_size, 50, input_length=max_length - 1))\n",
    "model.add(SimpleRNN(16))\n",
    "model.add(Dense(vocab_size, activation='softmax'))\n",
    "model.compile(loss='categorical_crossentropy', optimizer='adam', metrics=['accuracy'])\n",
    "\n",
    "# Train the model (adjust epochs and batch_size as needed)\n",
    "rnn_history = model.fit(X, y, epochs=10, verbose=1)\n",
    "\n",
    "# Example prediction\n",
    "test_sentence = \"this is a test\"\n",
    "test_sequence = tokenizer.texts_to_sequences([test_sentence])[0]\n",
    "padded_test_sequence = pad_sequences([test_sequence], maxlen=max_length - 1, padding='pre')\n",
    "prediction = model.predict(padded_test_sequence, verbose=0)\n",
    "predicted_word_index = np.argmax(prediction)\n",
    "predicted_word = tokenizer.index_word[predicted_word_index]\n",
    "print(f\"Predicted next word: {predicted_word}\")\n",
    "\n",
    "\n",
    "\n"
   ]
  },
  {
   "cell_type": "code",
   "execution_count": 23,
   "metadata": {
    "id": "wwSolMnDakzM"
   },
   "outputs": [
    {
     "name": "stdout",
     "output_type": "stream",
     "text": [
      "RNN Accuracy: 6.619744\n",
      "\u001b[1m3068/3068\u001b[0m \u001b[32m━━━━━━━━━━━━━━━━━━━━\u001b[0m\u001b[37m\u001b[0m \u001b[1m72s\u001b[0m 23ms/step\n"
     ]
    }
   ],
   "source": [
    "loss_rnn, accuracy_rnn = model.evaluate(X, y, verbose=0)\n",
    "print('RNN Accuracy: %f' % (accuracy_rnn * 100))\n",
    "rnn_predictions = np.argmax(model.predict(X), axis=1)"
   ]
  },
  {
   "cell_type": "markdown",
   "metadata": {},
   "source": [
    "## Training on LSTM model"
   ]
  },
  {
   "cell_type": "code",
   "execution_count": 24,
   "metadata": {
    "id": "fJS5cLlKjHb_"
   },
   "outputs": [
    {
     "name": "stdout",
     "output_type": "stream",
     "text": [
      "Epoch 1/10\n",
      "\u001b[1m3068/3068\u001b[0m \u001b[32m━━━━━━━━━━━━━━━━━━━━\u001b[0m\u001b[37m\u001b[0m \u001b[1m591s\u001b[0m 192ms/step - accuracy: 0.0151 - loss: 6.8256\n",
      "Epoch 2/10\n",
      "\u001b[1m3068/3068\u001b[0m \u001b[32m━━━━━━━━━━━━━━━━━━━━\u001b[0m\u001b[37m\u001b[0m \u001b[1m588s\u001b[0m 192ms/step - accuracy: 0.0170 - loss: 6.3066\n",
      "Epoch 3/10\n",
      "\u001b[1m3068/3068\u001b[0m \u001b[32m━━━━━━━━━━━━━━━━━━━━\u001b[0m\u001b[37m\u001b[0m \u001b[1m589s\u001b[0m 192ms/step - accuracy: 0.0240 - loss: 6.2350\n",
      "Epoch 4/10\n",
      "\u001b[1m3068/3068\u001b[0m \u001b[32m━━━━━━━━━━━━━━━━━━━━\u001b[0m\u001b[37m\u001b[0m \u001b[1m582s\u001b[0m 190ms/step - accuracy: 0.0324 - loss: 6.1442\n",
      "Epoch 5/10\n",
      "\u001b[1m3068/3068\u001b[0m \u001b[32m━━━━━━━━━━━━━━━━━━━━\u001b[0m\u001b[37m\u001b[0m \u001b[1m583s\u001b[0m 190ms/step - accuracy: 0.0395 - loss: 6.0692\n",
      "Epoch 6/10\n",
      "\u001b[1m3068/3068\u001b[0m \u001b[32m━━━━━━━━━━━━━━━━━━━━\u001b[0m\u001b[37m\u001b[0m \u001b[1m584s\u001b[0m 190ms/step - accuracy: 0.0463 - loss: 5.9821\n",
      "Epoch 7/10\n",
      "\u001b[1m3068/3068\u001b[0m \u001b[32m━━━━━━━━━━━━━━━━━━━━\u001b[0m\u001b[37m\u001b[0m \u001b[1m580s\u001b[0m 189ms/step - accuracy: 0.0504 - loss: 5.9142\n",
      "Epoch 8/10\n",
      "\u001b[1m3068/3068\u001b[0m \u001b[32m━━━━━━━━━━━━━━━━━━━━\u001b[0m\u001b[37m\u001b[0m \u001b[1m572s\u001b[0m 186ms/step - accuracy: 0.0527 - loss: 5.8657\n",
      "Epoch 9/10\n",
      "\u001b[1m3068/3068\u001b[0m \u001b[32m━━━━━━━━━━━━━━━━━━━━\u001b[0m\u001b[37m\u001b[0m \u001b[1m574s\u001b[0m 187ms/step - accuracy: 0.0563 - loss: 5.8047\n",
      "Epoch 10/10\n",
      "\u001b[1m3068/3068\u001b[0m \u001b[32m━━━━━━━━━━━━━━━━━━━━\u001b[0m\u001b[37m\u001b[0m \u001b[1m583s\u001b[0m 190ms/step - accuracy: 0.0581 - loss: 5.7579\n"
     ]
    },
    {
     "ename": "NameError",
     "evalue": "name 'accuracy' is not defined",
     "output_type": "error",
     "traceback": [
      "\u001b[1;31m---------------------------------------------------------------------------\u001b[0m",
      "\u001b[1;31mNameError\u001b[0m                                 Traceback (most recent call last)",
      "Cell \u001b[1;32mIn[24], line 15\u001b[0m\n\u001b[0;32m     13\u001b[0m \u001b[38;5;66;03m# Evaluate the model\u001b[39;00m\n\u001b[0;32m     14\u001b[0m loss_lstm, accuracy_lstm \u001b[38;5;241m=\u001b[39m lstm_model\u001b[38;5;241m.\u001b[39mevaluate(X, y, verbose\u001b[38;5;241m=\u001b[39m\u001b[38;5;241m0\u001b[39m)\n\u001b[1;32m---> 15\u001b[0m \u001b[38;5;28mprint\u001b[39m(\u001b[38;5;124m'\u001b[39m\u001b[38;5;124mLSTM Accuracy: \u001b[39m\u001b[38;5;132;01m%f\u001b[39;00m\u001b[38;5;124m'\u001b[39m \u001b[38;5;241m%\u001b[39m (\u001b[43maccuracy\u001b[49m \u001b[38;5;241m*\u001b[39m \u001b[38;5;241m100\u001b[39m))\n",
      "\u001b[1;31mNameError\u001b[0m: name 'accuracy' is not defined"
     ]
    }
   ],
   "source": [
    "\n",
    "# Build LSTM model\n",
    "lstm_model = Sequential()\n",
    "lstm_model.add(Embedding(vocab_size, 100, input_length=max_length - 1))\n",
    "lstm_model.add(LSTM(16))\n",
    "lstm_model.add(Dense(vocab_size, activation='softmax'))\n",
    "\n",
    "# Compile the model\n",
    "lstm_model.compile(loss='categorical_crossentropy', optimizer='adam', metrics=['accuracy'])\n",
    "\n",
    "# Train the model \n",
    "lstm_history = lstm_model.fit(X, y, epochs=10, verbose = 1)\n",
    "\n"
   ]
  },
  {
   "cell_type": "code",
   "execution_count": 25,
   "metadata": {},
   "outputs": [
    {
     "name": "stdout",
     "output_type": "stream",
     "text": [
      "LSTM Accuracy: 6.060544\n"
     ]
    }
   ],
   "source": [
    "# Evaluate the model\n",
    "loss_lstm, accuracy_lstm = lstm_model.evaluate(X, y, verbose=0)\n",
    "print('LSTM Accuracy: %f' % (accuracy_lstm * 100))"
   ]
  },
  {
   "cell_type": "markdown",
   "metadata": {},
   "source": [
    "## Comparing between RNN and LSTM"
   ]
  },
  {
   "cell_type": "code",
   "execution_count": 28,
   "metadata": {},
   "outputs": [
    {
     "name": "stdout",
     "output_type": "stream",
     "text": [
      "RNN Cross-entropy Loss (proxy for perplexity): 5.6787428855896\n",
      "LSTM Cross-entropy Loss (proxy for perplexity): 5.710114479064941\n",
      "RNN Accuracy: 6.619744002819061\n",
      "LSTM Accuracy: 6.060544401407242\n"
     ]
    },
    {
     "data": {
      "image/png": "[encoded data removed]",
      "text/plain": [
       "<Figure size 640x480 with 1 Axes>"
      ]
     },
     "metadata": {},
     "output_type": "display_data"
    },
    {
     "data": {
      "image/png": "[encoded data removed]",
      "text/plain": [
       "<Figure size 640x480 with 1 Axes>"
      ]
     },
     "metadata": {},
     "output_type": "display_data"
    }
   ],
   "source": [
    "\n",
    "\n",
    "# --- Performance Comparison ---\n",
    "# Assuming you've already trained and evaluated both RNN and LSTM models as shown in the preceding code\n",
    "\n",
    "# 1. Perplexity (Not directly available in Keras, but can be approximated)\n",
    "#    We'll use cross-entropy loss as a proxy for perplexity. Lower is better.\n",
    "print(\"RNN Cross-entropy Loss (proxy for perplexity):\", loss_rnn)  # 'loss' from RNN evaluation\n",
    "print(\"LSTM Cross-entropy Loss (proxy for perplexity):\", loss_lstm)\n",
    "\n",
    "# 2. Accuracy (Already calculated)\n",
    "print(\"RNN Accuracy:\", accuracy_rnn * 100)  # 'accuracy' from RNN evaluation\n",
    "print(\"LSTM Accuracy:\", accuracy_lstm * 100)  # 'accuracy' from LSTM evaluation\n",
    "\n",
    "# --- Visualizing Loss Curves ---\n",
    "plt.plot(rnn_history.history['loss'], label='RNN Training Loss')\n",
    "plt.plot(lstm_history.history['loss'], label='LSTM Training Loss')\n",
    "plt.title('Training Loss')\n",
    "plt.xlabel('Epochs')\n",
    "plt.ylabel('Loss')\n",
    "plt.legend()\n",
    "plt.show()\n",
    "\n",
    "plt.plot(rnn_history.history['accuracy'], label='RNN Accuracy')\n",
    "plt.plot(lstm_history.history['accuracy'], label='LSTM Accuracy')\n",
    "plt.title('Training Accuracy')\n",
    "plt.xlabel('Epochs')\n",
    "plt.ylabel('Sparse Accuracy')\n",
    "plt.legend()\n",
    "plt.show()\n"
   ]
  },
  {
   "cell_type": "markdown",
   "metadata": {},
   "source": [
    "## **Applying KL-Sum algorithm**"
   ]
  },
  {
   "cell_type": "code",
   "execution_count": 29,
   "metadata": {},
   "outputs": [
    {
     "name": "stdout",
     "output_type": "stream",
     "text": [
      "                                      clean_selftext  \\\n",
      "0  when i was younger i was fat but im hilarious ...   \n",
      "1  im  m and still suck my thumb and honestly don...   \n",
      "2  more than a year ago i went to my local grocer...   \n",
      "3  i recently graduated from grad school and have...   \n",
      "4  extreme remorse\\n\\ni grew up with pets yeah yo...   \n",
      "\n",
      "                                             summary  \n",
      "0  when i was younger i was fat but im hilarious ...  \n",
      "1  im  m and still suck my thumb and honestly don...  \n",
      "2  more than a year ago i went to my local grocer...  \n",
      "3  i recently graduated from grad school and have...  \n",
      "4  extreme remorse i thought about confessing thi...  \n"
     ]
    }
   ],
   "source": [
    "\n",
    "from sumy.parsers.plaintext import PlaintextParser\n",
    "from sumy.nlp.tokenizers import Tokenizer\n",
    "from sumy.summarizers.kl import KLSummarizer\n",
    "\n",
    "# Assuming 'dataset' is your DataFrame with a 'clean_selftext' column containing text\n",
    "\n",
    "def summarize_text(text, sentences_count=3):\n",
    "  parser = PlaintextParser.from_string(text, Tokenizer(\"english\"))\n",
    "  summarizer = KLSummarizer()\n",
    "  summary = summarizer(parser.document, sentences_count)\n",
    "  return \" \".join([str(sentence) for sentence in summary])\n",
    "\n",
    "# Apply summarization to each comment\n",
    "dataset['summary'] = dataset['clean_selftext'].apply(summarize_text)\n",
    "\n",
    "# Print a few examples\n",
    "print(dataset[['clean_selftext', 'summary']].head())"
   ]
  },
  {
   "cell_type": "markdown",
   "metadata": {},
   "source": [
    "## Using Pretrained GPT2 model"
   ]
  },
  {
   "cell_type": "code",
   "execution_count": null,
   "metadata": {
    "editable": true,
    "slideshow": {
     "slide_type": ""
    },
    "tags": []
   },
   "outputs": [],
   "source": [
    "import torch\n",
    "\n",
    "from transformers import GPT2LMHeadModel, GPT2Tokenizer, pipeline, DataCollatorForLanguageModeling\n",
    "from datasets import Dataset\n",
    "\n",
    "# Load your dataset from the CSV file\n",
    "df = pd.read_csv(\"data.csv\", delimiter=\"\\t\")\n",
    "\n",
    "# Convert the Pandas DataFrame to a Hugging Face dataset\n",
    "dataset = Dataset.from_pandas(df)\n",
    "\n",
    "# Preprocess the 'selftext' column to handle potential issues\n",
    "def preprocess_function(examples):\n",
    "    # 1. Ensure all values are strings:\n",
    "    examples['selftext'] = [str(text) for text in examples['selftext']]\n",
    "    # 2. Flatten nested lists (if any):\n",
    "    examples['selftext'] = [text for sublist in examples['selftext'] for text in sublist] if isinstance(examples['selftext'][0], list) else examples['selftext']\n",
    "    return examples\n",
    "\n",
    "# Apply preprocessing to the dataset\n",
    "dataset = dataset.map(preprocess_function, batched=True)\n",
    "\n",
    "# Load pre-trained GPT-2 model and tokenizer\n",
    "model_name = \"gpt2\"  \n",
    "tokenizer = GPT2Tokenizer.from_pretrained(model_name)\n",
    "model = GPT2LMHeadModel.from_pretrained(model_name)\n",
    "tokenizer.pad_token = tokenizer.eos_token\n",
    "\n",
    "#Tokenize the dataset\n",
    "def tokenize_function(examples):\n",
    "    return tokenizer(examples[\"selftext\"], return_special_tokens_mask=True, truncation=True,            \n",
    "           max_length=1024 )\n",
    "\n",
    "tokenized_datasets = dataset.map(\n",
    "    tokenize_function, batched=True, remove_columns=[\"selftext\"]\n",
    ")\n",
    "\n",
    "# Create data collator\n",
    "data_collator = DataCollatorForLanguageModeling(\n",
    "    tokenizer=tokenizer, mlm=False,\n",
    ")\n",
    "\n",
    "# Set up training arguments\n",
    "training_args = TrainingArguments(\n",
    "    output_dir=\"./results\",\n",
    "    num_train_epochs=3, \n",
    "    per_device_train_batch_size=8,\n",
    "    per_device_eval_batch_size=8,\n",
    "    warmup_steps=500,\n",
    "    weight_decay=0.01,\n",
    "    logging_dir=\"./logs\",\n",
    "    \n",
    ")\n",
    "\n",
    "# Train!\n",
    "trainer = Trainer(\n",
    "    model=model,\n",
    "    args=training_args,\n",
    "    data_collator=data_collator,\n",
    "    train_dataset=tokenized_datasets,\n",
    ")\n",
    "trainer.train()\n",
    "model.save_pretrained(\"./fine_tuned_gpt2\")\n",
    "\n",
    "# Load fine-tuned model for text generation\n",
    "model = GPT2LMHeadModel.from_pretrained(\"./fine_tuned_gpt2\")\n",
    "pipe = pipeline(\"text-generation\", model=model, tokenizer=tokenizer, device=0) \n",
    "\n",
    "# Select partial sentences from your dataset\n",
    "partial_sentences = [\n",
    "    dataset['selftext'][i].split('.')[:2]  \n",
    "    for i in range(5)\n",
    "]\n",
    "partial_sentences = [' '.join(sent) for sent in partial_sentences]\n",
    "\n",
    "\n",
    "# Generate completions\n",
    "for sentence in partial_sentences:\n",
    "    print(\"Partial Sentence:\", sentence)\n",
    "    completion = pipe(sentence, max_length=100, num_return_sequences=1)[0][\"generated_text\"]\n",
    "    print(\"Completion:\", completion)\n",
    "    print(\"---\")"
   ]
  },
  {
   "cell_type": "code",
   "execution_count": 34,
   "metadata": {},
   "outputs": [
    {
     "name": "stdout",
     "output_type": "stream",
     "text": [
      "Partial Sentence: When I was younger I was fat, but I'm hilarious so I was considered the 'funny' friend  Over the years I've loss some weight but I'm no where to being what I consider thin; I still feel uncomfortable at times wearing cropped shirts or low-waisted jeans even though my friends say I look good\n",
      "Completion: When I was younger I was fat, but I'm hilarious so I was considered the 'funny' friend  Over the years I've loss some weight but I'm no where to being what I consider thin; I still feel uncomfortable at times wearing cropped shirts or low-waisted jeans even though my friends say I look good in one.  What I've noticed in my friends, is that it's a weird thing to put on a shirt. I actually feel like a normal person and I\n",
      "---\n",
      "Partial Sentence: I'm 45 M and still suck my thumb and honestly don't want to stop - as much as I also do  want to stop  I do it in secret and that's why I prefer to sleep at my own place or sleep in my own bed so that I can basically suck my thumb\n",
      "Completion: I'm 45 M and still suck my thumb and honestly don't want to stop - as much as I also do  want to stop  I do it in secret and that's why I prefer to sleep at my own place or sleep in my own bed so that I can basically suck my thumb and finger together i know I'm just a bitch to those of you who know my sex life \n",
      "\n",
      "I'm a woman and I have a job. I did it for the last 16 years when\n",
      "---\n",
      "Partial Sentence: More than a year ago, I went to my local grocery store to have a costume cake made  I usually go to the bakery but I needed it done in 3 days & the bakery needs at least a week\n",
      "Completion: More than a year ago, I went to my local grocery store to have a costume cake made  I usually go to the bakery but I needed it done in 3 days & the bakery needs at least a week before the shop opens up. I know that there are tons of styles, but I haven't been doing it since. The cake I have on was literally 2 full size, it was so small that I couldn't even get down the cake to its cut out. I didn't even try\n",
      "---\n",
      "Partial Sentence: I recently graduated from grad school and have been struggling to find a job  Despite my efforts, I haven't received any offers\n",
      "Completion: I recently graduated from grad school and have been struggling to find a job  Despite my efforts, I haven't received any offers or money. I feel so hopeless looking for a job. When searching online the website for my perfect internship I realized I couldn't find a spot on the job description. This was the reason why I had a hard time finding jobs. I was having difficulty finding places because there were literally millions of jobs out there that require a strong GPA to get into. I also felt like\n",
      "---\n",
      "Partial Sentence: [Extreme Remorse]\n",
      "\n",
      "I grew up with pets  Yeah, you can probably tell where this is going\n",
      "Completion: [Extreme Remorse]\n",
      "\n",
      "I grew up with pets  Yeah, you can probably tell where this is going because I used to live on my two oldest two dogs and I think they are in their early 60s. I bought them as a family car and they're not even registered yet. I use a new baby formula and I have one on hand to help with the baby formula.\n",
      "\n",
      "I'm always looking for ways to help out but I don't really know which one to use\n",
      "---\n"
     ]
    }
   ],
   "source": [
    "pipe = pipeline(\"text-generation\", model=model, tokenizer=tokenizer) \n",
    "\n",
    "\n",
    "# Select partial sentences from your dataset\n",
    "partial_sentences = [\n",
    "    dataset['selftext'][i].split('.')[:2]  \n",
    "    for i in range(5)\n",
    "]\n",
    "partial_sentences = [' '.join(sent) for sent in partial_sentences]\n",
    "\n",
    "\n",
    "# Generate completions\n",
    "for sentence in partial_sentences:\n",
    "    print(\"Partial Sentence:\", sentence)\n",
    "    completion = pipe(sentence, max_length=100, num_return_sequences=1)[0][\"generated_text\"]\n",
    "    print(\"Completion:\", completion)\n",
    "    print(\"---\")"
   ]
  },
  {
   "cell_type": "markdown",
   "metadata": {},
   "source": [
    "## using a pretrained Sentimant Analysis "
   ]
  },
  {
   "cell_type": "code",
   "execution_count": 48,
   "metadata": {},
   "outputs": [
    {
     "name": "stderr",
     "output_type": "stream",
     "text": [
      "No model was supplied, defaulted to distilbert/distilbert-base-uncased-finetuned-sst-2-english and revision af0f99b (https://huggingface.co/distilbert/distilbert-base-uncased-finetuned-sst-2-english).\n",
      "Using a pipeline without specifying a model name and revision in production is not recommended.\n"
     ]
    },
    {
     "data": {
      "application/vnd.jupyter.widget-view+json": {
       "model_id": "c8f5c23b89fc44e6bef6a09323a48dd7",
       "version_major": 2,
       "version_minor": 0
      },
      "text/plain": [
       "Map:   0%|          | 0/824 [00:00<?, ? examples/s]"
      ]
     },
     "metadata": {},
     "output_type": "display_data"
    },
    {
     "name": "stdout",
     "output_type": "stream",
     "text": [
      "Error processing text: None. Error: You need to specify either `text` or `text_target`.\n",
      "Length of dataset: 824\n",
      "Length of sentiments: 824\n",
      "Sentiment Distribution:\n",
      "POSITIVE: 76 (9.22%)\n",
      "NEGATIVE: 747 (90.66%)\n",
      "UNKNOWN: 1 (0.12%)\n"
     ]
    }
   ],
   "source": [
    "# Load a pre-trained sentiment analysis model\n",
    "from transformers import pipeline\n",
    "#load dataset for clean check\n",
    "df = pd.read_csv(\"data.csv\", delimiter=\"\\t\")\n",
    "\n",
    "# Convert the Pandas DataFrame to a Hugging Face dataset\n",
    "dataset = Dataset.from_pandas(df)\n",
    "# Load a pre-trained sentiment analysis model\n",
    "sentiment_analyzer = pipeline('sentiment-analysis')\n",
    "\n",
    "# Summarize text lists within the 'selftext' column\n",
    "dataset = dataset.map(\n",
    "    lambda x: {'selftext': ' '.join(x['selftext']) if isinstance(x['selftext'], list) else x['selftext']})\n",
    "\n",
    "# Analyze sentiment and handle errors\n",
    "sentiments = []\n",
    "for text in dataset['selftext']:\n",
    "    try:\n",
    "        result = sentiment_analyzer(text, truncation=True)\n",
    "        sentiments.append(result[0]['label'])\n",
    "    except Exception as e:  # Catch any errors\n",
    "        print(f\"Error processing text: {text}. Error: {e}\")\n",
    "        sentiments.append(\"UNKNOWN\")  \n",
    "        \n",
    "print(f\"Length of dataset: {len(dataset['selftext'])}\")\n",
    "print(f\"Length of sentiments: {len(sentiments)}\")\n",
    "\n",
    "# Add the sentiment back to the Hugging Face Dataset\n",
    "dataset = dataset.add_column(\"sentiment\", sentiments)\n",
    "\n",
    "# Calculate sentiment distribution\n",
    "from collections import Counter\n",
    "\n",
    "sentiment_counts = Counter(dataset['sentiment'])  \n",
    "\n",
    "# Get the total number of sentiment labels\n",
    "total_count = len(dataset['sentiment'])\n",
    "\n",
    "\n",
    "# Print sentiment distribution statistics\n",
    "print(\"Sentiment Distribution:\")\n",
    "for sentiment, count in sentiment_counts.items():\n",
    "  percentage = (count / total_count) * 100\n",
    "  print(f\"{sentiment}: {count} ({percentage:.2f}%)\")\n",
    "\n"
   ]
  },
  {
   "cell_type": "code",
   "execution_count": null,
   "metadata": {},
   "outputs": [],
   "source": []
  }
 ],
 "metadata": {
  "colab": {
   "provenance": []
  },
  "kernelspec": {
   "display_name": "Python 3 (ipykernel)",
   "language": "python",
   "name": "python3"
  },
  "language_info": {
   "codemirror_mode": {
    "name": "ipython",
    "version": 3
   },
   "file_extension": ".py",
   "mimetype": "text/x-python",
   "name": "python",
   "nbconvert_exporter": "python",
   "pygments_lexer": "ipython3",
   "version": "3.11.9"
  }
 },
 "nbformat": 4,
 "nbformat_minor": 4
}
